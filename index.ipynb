{
 "cells": [
  {
   "cell_type": "markdown",
   "metadata": {},
   "source": [
    "# While Loops, Break and Continue - Lab"
   ]
  },
  {
   "cell_type": "markdown",
   "metadata": {},
   "source": [
    "## Introduction\n",
    "In this lab, we will practice using `while` loops, and `break` and `continue` statements in our code. We will use our control flow statements to iterate through collections and filter out or selectively operate on each element. We'll use `while` loops to perform operations until a given condition is no longer true."
   ]
  },
  {
   "cell_type": "markdown",
   "metadata": {},
   "source": [
    "## Objectives\n",
    "You will be able to:\n",
    "* Use a break and continue statements inside a loop\n",
    "* Understand, explain and use while loops"
   ]
  },
  {
   "cell_type": "markdown",
   "metadata": {},
   "source": [
    "## Instructions\n",
    "\n",
    "### While Loops\n",
    "Use while loops to perform the below operations and get the expected return values"
   ]
  },
  {
   "cell_type": "code",
   "execution_count": 5,
   "metadata": {},
   "outputs": [
    {
     "name": "stdout",
     "output_type": "stream",
     "text": [
      "Mmmmm 6 slices of pie left!\n",
      "And now I've eaten 1 of pie!\n",
      "Mmmmm 5 slices of pie left!\n",
      "And now I've eaten 2 of pie!\n",
      "Mmmmm 4 slices of pie left!\n",
      "And now I've eaten 3 of pie!\n",
      "Mmmmm 3 slices of pie left!\n",
      "And now I've eaten 4 of pie!\n",
      "Mmmmm 2 slices of pie left!\n",
      "And now I've eaten 5 of pie!\n",
      "Mmmmm 1 slices of pie left!\n",
      "And now I've eaten 6 of pie!\n"
     ]
    }
   ],
   "source": [
    "slices_of_pie = 6\n",
    "slices_eaten = 0\n",
    "# use a while loop to eat each slice of pie\n",
    "# add each slice to the slices_eaten variable\n",
    "\n",
    "while slices_of_pie > 0:\n",
    "    print(\"Mmmmm \" + str(slices_of_pie) + \" slices of pie left!\")\n",
    "    slices_of_pie -= 1\n",
    "    slices_eaten += 1\n",
    "    print(\"And now I've eaten \" + str(slices_eaten) + \" of pie!\")\n"
   ]
  },
  {
   "cell_type": "code",
   "execution_count": 8,
   "metadata": {},
   "outputs": [
    {
     "name": "stdout",
     "output_type": "stream",
     "text": [
      "Cooking pancake # 1 on the first side!\n",
      "...and now cooking pancake # 1 on the second side!\n",
      "Pancake #1 is done!\n",
      "Cooking pancake # 2 on the first side!\n",
      "...and now cooking pancake # 2 on the second side!\n",
      "Pancake #2 is done!\n",
      "Cooking pancake # 3 on the first side!\n",
      "...and now cooking pancake # 3 on the second side!\n",
      "Pancake #3 is done!\n",
      "Cooking pancake # 4 on the first side!\n",
      "...and now cooking pancake # 4 on the second side!\n",
      "Pancake #4 is done!\n",
      "Cooking pancake # 5 on the first side!\n",
      "...and now cooking pancake # 5 on the second side!\n",
      "Pancake #5 is done!\n"
     ]
    }
   ],
   "source": [
    "time_for_breakfast = 1468 # in seconds\n",
    "number_of_cooked_pancakes = 0\n",
    "\n",
    "# use a while loop to make yourself 5 pancakes for breakfast\n",
    "# each pancake takes 27 seconds to cook on each side\n",
    "# you must decrease the time_for_breakfast each time you \n",
    "# add a pancake to the skillet (frying pan) or flip a pancake (i.e. 2 times per pancake)\n",
    "# there is only room for one pancake at a time\n",
    "\n",
    "while time_for_breakfast > 0 and number_of_cooked_pancakes < 5:\n",
    "    print('Cooking pancake # ' + str(number_of_cooked_pancakes + 1 ) + ' on the first side!')\n",
    "    time_for_breakfast -= 27\n",
    "    print('...and now cooking pancake # ' + str(number_of_cooked_pancakes + 1 ) + ' on the second side!')\n",
    "    time_for_breakfast -= 27\n",
    "    print('Pancake #' + str(number_of_cooked_pancakes + 1) + \" is done!\")\n",
    "    number_of_cooked_pancakes += 1\n",
    "    \n",
    "    "
   ]
  },
  {
   "cell_type": "markdown",
   "metadata": {},
   "source": [
    "## For Loops"
   ]
  },
  {
   "cell_type": "markdown",
   "metadata": {},
   "source": [
    "> **Hint:** You may find the [remove method](https://www.programiz.com/python-programming/methods/list/remove) to be useful for the next problem"
   ]
  },
  {
   "cell_type": "code",
   "execution_count": 11,
   "metadata": {},
   "outputs": [
    {
     "name": "stdout",
     "output_type": "stream",
     "text": [
      "Up is patron #0\n",
      "Patron #0 says: 'Feed Me!'\n",
      "Up is patron #1\n",
      "Up is patron #2\n",
      "Patron #2 says: 'Feed Me!'\n",
      "Up is patron #3\n",
      "Up is patron #4\n",
      "Patron #4 says: 'Feed Me!'\n",
      "Up is patron #5\n",
      "Up is patron #6\n",
      "Patron #6 says: 'Feed Me!'\n",
      "Up is patron #7\n",
      "Up is patron #8\n",
      "Patron #8 says: 'Feed Me!'\n",
      "Up is patron #9\n",
      "Up is patron #10\n",
      "Patron #10 says: 'Feed Me!'\n",
      "Up is patron #11\n",
      "Up is patron #12\n",
      "Patron #12 says: 'Feed Me!'\n",
      "Up is patron #13\n",
      "Up is patron #14\n",
      "Patron #14 says: 'Feed Me!'\n",
      "Up is patron #15\n",
      "Up is patron #16\n",
      "Patron #16 says: 'Feed Me!'\n",
      "Up is patron #17\n",
      "Up is patron #18\n",
      "Patron #18 says: 'Feed Me!'\n",
      "Up is patron #19\n",
      "Up is patron #20\n",
      "Patron #20 says: 'Feed Me!'\n",
      "Up is patron #21\n",
      "Up is patron #22\n",
      "Patron #22 says: 'Feed Me!'\n",
      "Up is patron #23\n",
      "Up is patron #24\n",
      "Patron #24 says: 'Feed Me!'\n",
      "Up is patron #25\n",
      "Up is patron #26\n",
      "Patron #26 says: 'Feed Me!'\n",
      "Up is patron #27\n",
      "Up is patron #28\n",
      "Patron #28 says: 'Feed Me!'\n",
      "Up is patron #29\n",
      "15\n"
     ]
    }
   ],
   "source": [
    "line_of_hungry_patrons = list(range(0,30))\n",
    "fed_patrons = []\n",
    "\n",
    "# use a while loop to to feed the hungry patrons who have an even number\n",
    "# add the patrons with an even number to the fed_patrons list\n",
    "# then remove the even numbered patrons from the line_of_hungry_patrons\n",
    "# each list should contain 15 elements\n",
    "\n",
    "while len(fed_patrons) < 15:\n",
    "    for patron in line_of_hungry_patrons:\n",
    "        print( \"Up is patron #\" + str(patron))\n",
    "        if patron % 2 == 0:\n",
    "            print(\"Patron #\" + str(patron) + \" says: 'Feed Me!'\")\n",
    "            fed_patrons.append(patron)\n",
    "        else:\n",
    "            continue\n",
    "print(len(fed_patrons))\n"
   ]
  },
  {
   "cell_type": "markdown",
   "metadata": {},
   "source": [
    "### `break` And `continue` Statements"
   ]
  },
  {
   "cell_type": "markdown",
   "metadata": {},
   "source": [
    "We have a list of person objects with all kinds of attributes. We'll use loops to find a person that meets a certain requirement that we are looking for or create new lists with a certain subset of elements. Write for loops with conditional statements in conjunction with `break` and `continue` to get the desired output."
   ]
  },
  {
   "cell_type": "code",
   "execution_count": 12,
   "metadata": {},
   "outputs": [],
   "source": [
    "people = [\n",
    "    {'name': \"Daniel\", 'age': 29, 'job': \"Engineer\", 'pet': \"Cat\", 'pet_name': \"Gato\"}, \n",
    "    {'name': \"Katie\", 'age': 30, 'job': \"Teacher\", 'pet': \"Dog\", 'pet_name': \"Frank\"},\n",
    "    {'name': \"Owen\", 'age': 26, 'job': \"Sales person\", 'pet': \"Cat\", 'pet_name': \"Cosmo\"},\n",
    "    {'name': \"Josh\", 'age': 22, 'job': \"Student\", 'pet': \"Cat\", 'pet_name': \"Chat\"},\n",
    "    {'name': \"Estelle\", 'age': 35, 'job': \"French Diplomat\", 'pet': \"Dog\", 'pet_name': \"Gabby\"},\n",
    "    {'name': \"Gustav\", 'age': 24, 'job': \"Brewer\", 'pet': \"Dog\", 'pet_name': \"Helen\"}\n",
    "]"
   ]
  },
  {
   "cell_type": "code",
   "execution_count": 15,
   "metadata": {},
   "outputs": [
    {
     "name": "stdout",
     "output_type": "stream",
     "text": [
      "1\n",
      "Katie\n"
     ]
    }
   ],
   "source": [
    "# use the for loop below to find the *first* person in the list of people that has a dog as their pet\n",
    "# the iteration count shouldn't exceed 2 iterations\n",
    "first_dog_person = None\n",
    "\n",
    "iteration_count = 0\n",
    "\n",
    "for person in people:\n",
    "    if person['pet'] == 'Dog':\n",
    "        first_dog_person = person['name']\n",
    "        break\n",
    "    iteration_count += 1\n",
    "    \n",
    "print(iteration_count)\n",
    "print(first_dog_person)"
   ]
  },
  {
   "cell_type": "code",
   "execution_count": 17,
   "metadata": {},
   "outputs": [
    {
     "name": "stdout",
     "output_type": "stream",
     "text": [
      "['Owen', 'Josh']\n"
     ]
    }
   ],
   "source": [
    "# use a for loop to create a list of the cat owners who are under the age of 28\n",
    "cat_owners = []\n",
    "\n",
    "for person in people:\n",
    "    if (person['age']<28) and (person['pet']=='Cat'):\n",
    "        cat_owners.append(person['name'])\n",
    "        continue\n",
    "\n",
    "print(cat_owners)"
   ]
  },
  {
   "cell_type": "code",
   "execution_count": 18,
   "metadata": {},
   "outputs": [
    {
     "name": "stdout",
     "output_type": "stream",
     "text": [
      "Katie\n"
     ]
    }
   ],
   "source": [
    "# use a for loop to find the first person who is above 29 years old in our list of people\n",
    "# remember to use a break and or continue statement\n",
    "\n",
    "thirty_something_yr_old = None\n",
    "\n",
    "for person in people:\n",
    "    if person['age']>29:\n",
    "        thirty_something_yr_old = person['name']\n",
    "        break\n",
    "    \n",
    "print(thirty_something_yr_old)"
   ]
  },
  {
   "cell_type": "code",
   "execution_count": 19,
   "metadata": {},
   "outputs": [
    {
     "name": "stdout",
     "output_type": "stream",
     "text": [
      "['Katie', 'Estelle', 'Gustav']\n",
      "['Frank', 'Gabby', 'Helen']\n"
     ]
    }
   ],
   "source": [
    "# use a for loop to create a list of person names and another list of pet names for all dog owners\n",
    "dog_owner_names = []\n",
    "dog_names = []\n",
    "\n",
    "for person in people:\n",
    "    if person['pet']=='Dog':\n",
    "        dog_owner_names.append(person['name'])\n",
    "        dog_names.append(person['pet_name'])\n",
    "        continue\n",
    "    \n",
    "print(dog_owner_names)\n",
    "print(dog_names)\n"
   ]
  },
  {
   "cell_type": "code",
   "execution_count": null,
   "metadata": {},
   "outputs": [],
   "source": [
    "# use a for loop to create a list of odd numbers from the list of numbers from 0 to 100\n",
    "# each time there is an odd number, add 10 to it and append it to the list_of_odd_numbers_plus_ten\n",
    "# stop adding numbers to the list when there are 35 numbers\n",
    "# use break and continue statements in your code\n",
    "\n",
    "list_of_numbers = list(range(0,100))\n",
    "list_of_odd_numbers_plus_ten = []\n",
    "for number in list_of_numbers:\n",
    "    pass"
   ]
  },
  {
   "cell_type": "markdown",
   "metadata": {},
   "source": [
    "## Summary"
   ]
  },
  {
   "cell_type": "markdown",
   "metadata": {},
   "source": [
    "In this lab, we practiced using while loops, which continue executing their block of code until the given condition is no longer truthy. This is useful for instances where we do not have a collection or do not need a collection to solve our problem, especially when we would only like to stop the process according to a certain condition. We then practiced using control flow statements, `break` and `continue`, to selectively operate on elements, append them to new lists, or assign them to new variables."
   ]
  }
 ],
 "metadata": {
  "kernelspec": {
   "display_name": "Python 3",
   "language": "python",
   "name": "python3"
  },
  "language_info": {
   "codemirror_mode": {
    "name": "ipython",
    "version": 3
   },
   "file_extension": ".py",
   "mimetype": "text/x-python",
   "name": "python",
   "nbconvert_exporter": "python",
   "pygments_lexer": "ipython3",
   "version": "3.6.6"
  }
 },
 "nbformat": 4,
 "nbformat_minor": 2
}
